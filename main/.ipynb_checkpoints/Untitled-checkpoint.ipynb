{
 "cells": [
  {
   "cell_type": "code",
   "execution_count": 15,
   "metadata": {},
   "outputs": [],
   "source": [
    "####################################\n",
    "# phrase.py                        #\n",
    "#                                  #\n",
    "# Defines Phrase class for genetic #\n",
    "#                                  #\n",
    "# Doug Lloyd                       #\n",
    "# March 15, 2019                   #\n",
    "# CS50                             #\n",
    "####################################\n",
    "\n",
    "import random\n",
    "from matplotlib import pyplot\n",
    "\n",
    "import numpy,math\n",
    "from cs50 import get_string\n",
    "import pandas as pd\n",
    "import statistics\n",
    "import talib\n",
    "df1 = pd.read_csv(\"/root/alpha/git/mine/data_science/data/01JAN/SBIN.csv\",header=None)\n",
    "df = df1[4]\n",
    "avg = statistics.mean(df)\n",
    "# ask the user for a target string\n",
    "# target = get_string(\"What target do you want to match? \")\n",
    "target = 6\n",
    "popSize = 100\n",
    "c1 = 0\n",
    "\n",
    "class Phrase:\n",
    "\n",
    "    # constructor method\n",
    "    def __init__(self):\n",
    "        self.characters = []\n",
    "        # append len(target) number of randomly chosen printable ASCII chars\n",
    "        for i in range(target):\n",
    "            character = chr(random.choice(range(48,50)))\n",
    "            self.characters.append(character)\n",
    "        self.r1_avg_p = statistics.mean(df)\n",
    "        self.count0 = 0\n",
    "            # else:\n",
    "            #     self.characters.append('0')\n",
    "\n",
    "    # render the character array as a string instead of an array of chars\n",
    "    def getContents(self):\n",
    "        return ''.join(self.characters)\n",
    "\n",
    "    # score the current entity's fitness by counting matches to target\n",
    "    def getFitness(self):\n",
    "        self.score = 0\n",
    "        self.shares = 0\n",
    "        self.buy = 0\n",
    "        self.buy_price = 0\n",
    "        self.sell = 0\n",
    "        self.sell_price = 0\n",
    "        # self.r1_avg\n",
    "        # sel\n",
    "        # for i in range(len(self.characters)):\n",
    "        for p in range(len(df)-20):\n",
    "            j = p + 20\n",
    "            self.count0 = 0\n",
    "            self.r1(df[j])\n",
    "            self.r2(j)\n",
    "            self.rocp(j)\n",
    "            # self.macd(j)\n",
    "            if self.count0>(target/4):\n",
    "                if self.buy == 1 and self.sell == 0:\n",
    "                    self.buy = 0\n",
    "                    self.score += (df[j] - self.buy_price)\n",
    "                elif self.buy == 0 and self.buy == 0:\n",
    "                    self.sell = 1\n",
    "                    self.sell_price = df[j]\n",
    "            else:#if self.characters[2] == '1':\n",
    "                if self.sell == 1  and self.buy == 0:\n",
    "                    self.sell = 0\n",
    "                    self.score -= (df[j] - self.sell_price)\n",
    "                elif self.sell == 0 and self.buy == 0:\n",
    "                    self.buy = 1\n",
    "                    self.buy_price = df[j]\n",
    "        if self.sell == 1 and self.buy == 0:\n",
    "            self.sell = 0\n",
    "            self.score -= (df[j] - self.sell_price)\n",
    "        elif self.buy == 1 and self.sell == 0:\n",
    "            self.buy = 0\n",
    "            self.score += (df[j] - self.buy_price)\n",
    "\n",
    "            # print(\"sell:\"+str(self.sell)+\" buy:\"+str(self.buy)+\" sell_p: \"+str(self.sell_price)+\" buy_p: \"+str(self.buy_price))\n",
    "    # create a child of two members of the current generation\n",
    "    def crossover(self, partner):\n",
    "\n",
    "        # create a spot for the characters to go\n",
    "        child = Phrase()\n",
    "\n",
    "        # flip a coin for each character, selecting from one parent each time\n",
    "        for i in range(len(self.characters)):\n",
    "            # if i % 3 != 0:\n",
    "            if random.random() < 0.5:\n",
    "                child.characters[i] = self.characters[i]\n",
    "            else:\n",
    "                child.characters[i] = partner.characters[i]\n",
    "\n",
    "        return child\n",
    "\n",
    "    # some portion of the time, need some characters to randomly change\n",
    "    def mutate(self):\n",
    "\n",
    "        # less than 1% of the time, change a character into something else\n",
    "        for i in range(len(self.characters)):\n",
    "            # if i % 3 != 0:\n",
    "            if random.random() < 0.02:\n",
    "                self.characters[i] = chr(random.choice(range(48,50)))\n",
    "    def r1(self,price):\n",
    "        if price > self.r1_avg_p:\n",
    "            if self.characters[1] == '0':\n",
    "                self.count0 += 1\n",
    "        elif price < self.r1_avg_p:\n",
    "            if self.characters[0] == '0':\n",
    "                self.count0 += 1\n",
    "\n",
    "    def r2(self, j):\n",
    "        if j > 0:\n",
    "            avg = statistics.mean(df[0:j])\n",
    "            if df[j] > avg :\n",
    "                if self.characters[3] == '0':\n",
    "                    self.count0 += 1\n",
    "            elif df[j] < avg:\n",
    "                if self.characters[2] == '0':\n",
    "                    self.count0 += 1\n",
    "\n",
    "    def rocp(self,j):\n",
    "        # if(j > 0):\n",
    "        rocp  = talib.ROCP((df[0:j]),timeperiod=19)\n",
    "        if rocp[j-1] > 0:\n",
    "            if self.characters[5] == '0':\n",
    "                self.count0 += 1\n",
    "        elif rocp[j-1]<0:\n",
    "            if self.characters[4] == '0':\n",
    "                self.count0 += 1\n",
    "\n",
    "    def macd(self,j):\n",
    "        # if (j > 0):\n",
    "        # rocp = talib.MACD((df[0:j]), fastperiod=12,slowperiod=26, signalperiod=9)\n",
    "        macd, signal, hist = talib.MACD((df[0:j]), fastperiod=12, slowperiod=26, signalperiod=9)\n",
    "        norm_macd = numpy.nan_to_num(macd) / math.sqrt(numpy.var(numpy.nan_to_num(macd)))\n",
    "        norm_signal = numpy.nan_to_num(signal) / math.sqrt(numpy.var(numpy.nan_to_num(signal)))\n",
    "        norm_hist = numpy.nan_to_num(hist) / math.sqrt(numpy.var(numpy.nan_to_num(hist)))\n",
    "        macdrocp = talib.ROCP(norm_macd + numpy.max(norm_macd) - numpy.min(norm_macd), timeperiod=1)\n",
    "        signalrocp = talib.ROCP(norm_signal + numpy.max(norm_signal) - numpy.min(norm_signal), timeperiod=1)\n",
    "        histrocp = talib.ROCP(norm_hist + numpy.max(norm_hist) - numpy.min(norm_hist), timeperiod=1)\n",
    "        if rocp[j - 1] > 0:\n",
    "            if self.characters[5] == '0':\n",
    "                self.count0 += 1\n",
    "        elif rocp[j - 1] < 0:\n",
    "            if self.characters[4] == '0':\n",
    "                self.count0 += 1\n",
    "\n"
   ]
  },
  {
   "cell_type": "code",
   "execution_count": 6,
   "metadata": {
    "collapsed": true
   },
   "outputs": [
    {
     "data": {
      "text/plain": [
       "0          NaN\n",
       "1          NaN\n",
       "2          NaN\n",
       "3          NaN\n",
       "4          NaN\n",
       "5          NaN\n",
       "6          NaN\n",
       "7          NaN\n",
       "8          NaN\n",
       "9          NaN\n",
       "10         NaN\n",
       "11         NaN\n",
       "12         NaN\n",
       "13         NaN\n",
       "14         NaN\n",
       "15         NaN\n",
       "16         NaN\n",
       "17         NaN\n",
       "18         NaN\n",
       "19         NaN\n",
       "20         NaN\n",
       "21         NaN\n",
       "22         NaN\n",
       "23         NaN\n",
       "24         NaN\n",
       "25         NaN\n",
       "26         NaN\n",
       "27         NaN\n",
       "28         NaN\n",
       "29         NaN\n",
       "30         NaN\n",
       "31         NaN\n",
       "32         NaN\n",
       "33   -0.212513\n",
       "dtype: float64"
      ]
     },
     "execution_count": 6,
     "metadata": {},
     "output_type": "execute_result"
    }
   ],
   "source": [
    "macd, signal, hist = talib.MACD((df[0:34]), fastperiod=12, slowperiod=26, signalperiod=9)\n",
    "signal"
   ]
  },
  {
   "cell_type": "code",
   "execution_count": 8,
   "metadata": {
    "collapsed": true
   },
   "outputs": [
    {
     "data": {
      "text/plain": [
       "0      330.75\n",
       "1      330.70\n",
       "2      331.10\n",
       "3      331.25\n",
       "4      330.95\n",
       "5      329.40\n",
       "6      330.00\n",
       "7      330.00\n",
       "8      329.55\n",
       "9      329.75\n",
       "10     329.65\n",
       "11     329.95\n",
       "12     329.80\n",
       "13     330.00\n",
       "14     330.15\n",
       "15     330.15\n",
       "16     330.05\n",
       "17     329.95\n",
       "18     329.85\n",
       "19     329.15\n",
       "20     329.25\n",
       "21     329.65\n",
       "22     330.05\n",
       "23     330.00\n",
       "24     330.15\n",
       "25     329.80\n",
       "26     330.00\n",
       "27     329.95\n",
       "28     329.90\n",
       "29     329.90\n",
       "        ...  \n",
       "350    327.30\n",
       "351    327.30\n",
       "352    327.20\n",
       "353    326.90\n",
       "354    327.15\n",
       "355    327.15\n",
       "356    327.35\n",
       "357    327.25\n",
       "358    327.40\n",
       "359    327.75\n",
       "360    327.75\n",
       "361    327.55\n",
       "362    327.75\n",
       "363    327.65\n",
       "364    327.55\n",
       "365    327.35\n",
       "366    327.50\n",
       "367    327.50\n",
       "368    327.50\n",
       "369    327.65\n",
       "370    327.60\n",
       "371    327.45\n",
       "372    327.70\n",
       "373    328.70\n",
       "374    326.65\n",
       "375    326.65\n",
       "376    326.65\n",
       "377    326.65\n",
       "378    326.65\n",
       "379    326.65\n",
       "Name: 6, Length: 380, dtype: float64"
      ]
     },
     "execution_count": 8,
     "metadata": {},
     "output_type": "execute_result"
    }
   ],
   "source": [
    "import random\n",
    "from cs50 import get_string\n",
    "import pandas as pd\n",
    "import statistics\n",
    "df1 = pd.read_csv(\"/root/alpha/git/mine/data_science/data/01JAN/WIPRO.txt\",sep=\",\",header=None)\n",
    "df = df1[6]\n",
    "df"
   ]
  },
  {
   "cell_type": "code",
   "execution_count": 63,
   "metadata": {},
   "outputs": [
    {
     "data": {
      "text/plain": [
       "[<matplotlib.lines.Line2D at 0x7fd2779cf898>]"
      ]
     },
     "execution_count": 63,
     "metadata": {},
     "output_type": "execute_result"
    },
    {
     "data": {
      "image/png": "[encoded data removed]",
      "text/plain": [
       "<Figure size 432x288 with 1 Axes>"
      ]
     },
     "metadata": {
      "needs_background": "light"
     },
     "output_type": "display_data"
    }
   ],
   "source": [
    "pyplot.plot(df)\n",
    "pyplot.plot((rsi/100)*7+294)\n",
    "# pyplot.plot((a/100)*7+294)\n",
    "pyplot.plot((a))\n",
    "pyplot.plot((b))\n",
    "pyplot.plot((c))\n",
    "pyplot.plot((d))"
   ]
  },
  {
   "cell_type": "code",
   "execution_count": 64,
   "metadata": {
    "scrolled": true
   },
   "outputs": [
    {
     "data": {
      "text/plain": [
       "[<matplotlib.lines.Line2D at 0x7fd2779460f0>]"
      ]
     },
     "execution_count": 64,
     "metadata": {},
     "output_type": "execute_result"
    },
    {
     "data": {
      "image/png": "[encoded data removed]",
      "text/plain": [
       "<Figure size 432x288 with 1 Axes>"
      ]
     },
     "metadata": {
      "needs_background": "light"
     },
     "output_type": "display_data"
    }
   ],
   "source": [
    "rsi = talib.RSI(df[1:], timeperiod=6)\n",
    "pyplot.plot((rsi))\n",
    "pyplot.plot(a)\n",
    "pyplot.plot(b)\n",
    "# pyplot.plot((b))\n",
    "pyplot.plot((c))\n",
    "pyplot.plot((d))"
   ]
  },
  {
   "cell_type": "code",
   "execution_count": 62,
   "metadata": {},
   "outputs": [],
   "source": [
    "b = []\n",
    "for i in range(392):\n",
    "    b.append((80/100)*7+294)\n",
    "a = []\n",
    "for i in range(392):\n",
    "    a.append((70/100)*7+294)\n",
    "c = []\n",
    "for i in range(392):\n",
    "    c.append((30/100)*7+294)\n",
    "d = []\n",
    "for i in range(392):\n",
    "    d.append((40/100)*7+294)"
   ]
  }
 ],
 "metadata": {
  "kernelspec": {
   "display_name": "Python 3",
   "language": "python",
   "name": "python3"
  },
  "language_info": {
   "codemirror_mode": {
    "name": "ipython",
    "version": 3
   },
   "file_extension": ".py",
   "mimetype": "text/x-python",
   "name": "python",
   "nbconvert_exporter": "python",
   "pygments_lexer": "ipython3",
   "version": "3.7.3"
  }
 },
 "nbformat": 4,
 "nbformat_minor": 2
}
