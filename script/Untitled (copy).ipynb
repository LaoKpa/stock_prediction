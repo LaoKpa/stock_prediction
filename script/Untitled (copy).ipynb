{
 "cells": [
  {
   "cell_type": "code",
   "execution_count": 16,
   "metadata": {},
   "outputs": [
    {
     "ename": "KeyError",
     "evalue": "40",
     "output_type": "error",
     "traceback": [
      "\u001b[0;31m---------------------------------------------------------------------------\u001b[0m",
      "\u001b[0;31mKeyError\u001b[0m                                  Traceback (most recent call last)",
      "\u001b[0;32m<ipython-input-16-b805d0015246>\u001b[0m in \u001b[0;36m<module>\u001b[0;34m()\u001b[0m\n\u001b[1;32m    188\u001b[0m     \u001b[0mrule\u001b[0m \u001b[0;34m=\u001b[0m \u001b[0;34m\"110111011111\"\u001b[0m\u001b[0;34m\u001b[0m\u001b[0;34m\u001b[0m\u001b[0m\n\u001b[1;32m    189\u001b[0m     \u001b[0mph\u001b[0m \u001b[0;34m=\u001b[0m \u001b[0mPhrase\u001b[0m\u001b[0;34m(\u001b[0m\u001b[0mrule\u001b[0m\u001b[0;34m)\u001b[0m\u001b[0;34m\u001b[0m\u001b[0;34m\u001b[0m\u001b[0m\n\u001b[0;32m--> 190\u001b[0;31m     \u001b[0mph\u001b[0m\u001b[0;34m.\u001b[0m\u001b[0mgetFitness\u001b[0m\u001b[0;34m(\u001b[0m\u001b[0;34m)\u001b[0m\u001b[0;34m\u001b[0m\u001b[0;34m\u001b[0m\u001b[0m\n\u001b[0m\u001b[1;32m    191\u001b[0m     \u001b[0mprint\u001b[0m\u001b[0;34m(\u001b[0m\u001b[0mph\u001b[0m\u001b[0;34m.\u001b[0m\u001b[0mscore\u001b[0m\u001b[0;34m)\u001b[0m\u001b[0;34m\u001b[0m\u001b[0;34m\u001b[0m\u001b[0m\n",
      "\u001b[0;32m<ipython-input-16-b805d0015246>\u001b[0m in \u001b[0;36mgetFitness\u001b[0;34m(self)\u001b[0m\n\u001b[1;32m     35\u001b[0m             \u001b[0mself\u001b[0m\u001b[0;34m.\u001b[0m\u001b[0mcount0\u001b[0m \u001b[0;34m=\u001b[0m \u001b[0;36m0\u001b[0m\u001b[0;34m\u001b[0m\u001b[0;34m\u001b[0m\u001b[0m\n\u001b[1;32m     36\u001b[0m             \u001b[0;31m# self.r1(j)\u001b[0m\u001b[0;34m\u001b[0m\u001b[0;34m\u001b[0m\u001b[0;34m\u001b[0m\u001b[0m\n\u001b[0;32m---> 37\u001b[0;31m             \u001b[0mself\u001b[0m\u001b[0;34m.\u001b[0m\u001b[0mr2\u001b[0m\u001b[0;34m(\u001b[0m\u001b[0mj\u001b[0m\u001b[0;34m)\u001b[0m\u001b[0;34m\u001b[0m\u001b[0;34m\u001b[0m\u001b[0m\n\u001b[0m\u001b[1;32m     38\u001b[0m             \u001b[0mself\u001b[0m\u001b[0;34m.\u001b[0m\u001b[0mr3\u001b[0m\u001b[0;34m(\u001b[0m\u001b[0mj\u001b[0m\u001b[0;34m)\u001b[0m\u001b[0;34m\u001b[0m\u001b[0;34m\u001b[0m\u001b[0m\n\u001b[1;32m     39\u001b[0m             \u001b[0mself\u001b[0m\u001b[0;34m.\u001b[0m\u001b[0mr4\u001b[0m\u001b[0;34m(\u001b[0m\u001b[0mj\u001b[0m\u001b[0;34m)\u001b[0m\u001b[0;34m\u001b[0m\u001b[0;34m\u001b[0m\u001b[0m\n",
      "\u001b[0;32m<ipython-input-16-b805d0015246>\u001b[0m in \u001b[0;36mr2\u001b[0;34m(self, j)\u001b[0m\n\u001b[1;32m    101\u001b[0m         \u001b[0;32mif\u001b[0m \u001b[0mj\u001b[0m \u001b[0;34m>\u001b[0m \u001b[0;36m0\u001b[0m\u001b[0;34m:\u001b[0m\u001b[0;34m\u001b[0m\u001b[0;34m\u001b[0m\u001b[0m\n\u001b[1;32m    102\u001b[0m             \u001b[0mavg\u001b[0m \u001b[0;34m=\u001b[0m \u001b[0mstatistics\u001b[0m\u001b[0;34m.\u001b[0m\u001b[0mmean\u001b[0m\u001b[0;34m(\u001b[0m\u001b[0mdf\u001b[0m\u001b[0;34m[\u001b[0m\u001b[0mj\u001b[0m\u001b[0;34m-\u001b[0m\u001b[0;36m20\u001b[0m\u001b[0;34m:\u001b[0m\u001b[0mj\u001b[0m\u001b[0;34m]\u001b[0m\u001b[0;34m)\u001b[0m\u001b[0;34m\u001b[0m\u001b[0;34m\u001b[0m\u001b[0m\n\u001b[0;32m--> 103\u001b[0;31m             \u001b[0mprint\u001b[0m\u001b[0;34m(\u001b[0m\u001b[0mdf\u001b[0m\u001b[0;34m[\u001b[0m\u001b[0mj\u001b[0m\u001b[0;34m]\u001b[0m\u001b[0;34m)\u001b[0m\u001b[0;34m\u001b[0m\u001b[0;34m\u001b[0m\u001b[0m\n\u001b[0m\u001b[1;32m    104\u001b[0m             \u001b[0mprint\u001b[0m\u001b[0;34m(\u001b[0m\u001b[0mavg\u001b[0m\u001b[0;34m)\u001b[0m\u001b[0;34m\u001b[0m\u001b[0;34m\u001b[0m\u001b[0m\n\u001b[1;32m    105\u001b[0m             \u001b[0;32mif\u001b[0m \u001b[0mdf\u001b[0m\u001b[0;34m[\u001b[0m\u001b[0mj\u001b[0m\u001b[0;34m]\u001b[0m \u001b[0;34m>\u001b[0m \u001b[0mavg\u001b[0m \u001b[0;34m:\u001b[0m\u001b[0;34m\u001b[0m\u001b[0;34m\u001b[0m\u001b[0m\n",
      "\u001b[0;32m/usr/local/lib/python3.7/dist-packages/pandas/core/series.py\u001b[0m in \u001b[0;36m__getitem__\u001b[0;34m(self, key)\u001b[0m\n\u001b[1;32m    866\u001b[0m         \u001b[0mkey\u001b[0m \u001b[0;34m=\u001b[0m \u001b[0mcom\u001b[0m\u001b[0;34m.\u001b[0m\u001b[0mapply_if_callable\u001b[0m\u001b[0;34m(\u001b[0m\u001b[0mkey\u001b[0m\u001b[0;34m,\u001b[0m \u001b[0mself\u001b[0m\u001b[0;34m)\u001b[0m\u001b[0;34m\u001b[0m\u001b[0;34m\u001b[0m\u001b[0m\n\u001b[1;32m    867\u001b[0m         \u001b[0;32mtry\u001b[0m\u001b[0;34m:\u001b[0m\u001b[0;34m\u001b[0m\u001b[0;34m\u001b[0m\u001b[0m\n\u001b[0;32m--> 868\u001b[0;31m             \u001b[0mresult\u001b[0m \u001b[0;34m=\u001b[0m \u001b[0mself\u001b[0m\u001b[0;34m.\u001b[0m\u001b[0mindex\u001b[0m\u001b[0;34m.\u001b[0m\u001b[0mget_value\u001b[0m\u001b[0;34m(\u001b[0m\u001b[0mself\u001b[0m\u001b[0;34m,\u001b[0m \u001b[0mkey\u001b[0m\u001b[0;34m)\u001b[0m\u001b[0;34m\u001b[0m\u001b[0;34m\u001b[0m\u001b[0m\n\u001b[0m\u001b[1;32m    869\u001b[0m \u001b[0;34m\u001b[0m\u001b[0m\n\u001b[1;32m    870\u001b[0m             \u001b[0;32mif\u001b[0m \u001b[0;32mnot\u001b[0m \u001b[0mis_scalar\u001b[0m\u001b[0;34m(\u001b[0m\u001b[0mresult\u001b[0m\u001b[0;34m)\u001b[0m\u001b[0;34m:\u001b[0m\u001b[0;34m\u001b[0m\u001b[0;34m\u001b[0m\u001b[0m\n",
      "\u001b[0;32m/usr/local/lib/python3.7/dist-packages/pandas/core/indexes/base.py\u001b[0m in \u001b[0;36mget_value\u001b[0;34m(self, series, key)\u001b[0m\n\u001b[1;32m   4373\u001b[0m         \u001b[0;32mtry\u001b[0m\u001b[0;34m:\u001b[0m\u001b[0;34m\u001b[0m\u001b[0;34m\u001b[0m\u001b[0m\n\u001b[1;32m   4374\u001b[0m             return self._engine.get_value(s, k,\n\u001b[0;32m-> 4375\u001b[0;31m                                           tz=getattr(series.dtype, 'tz', None))\n\u001b[0m\u001b[1;32m   4376\u001b[0m         \u001b[0;32mexcept\u001b[0m \u001b[0mKeyError\u001b[0m \u001b[0;32mas\u001b[0m \u001b[0me1\u001b[0m\u001b[0;34m:\u001b[0m\u001b[0;34m\u001b[0m\u001b[0;34m\u001b[0m\u001b[0m\n\u001b[1;32m   4377\u001b[0m             \u001b[0;32mif\u001b[0m \u001b[0mlen\u001b[0m\u001b[0;34m(\u001b[0m\u001b[0mself\u001b[0m\u001b[0;34m)\u001b[0m \u001b[0;34m>\u001b[0m \u001b[0;36m0\u001b[0m \u001b[0;32mand\u001b[0m \u001b[0;34m(\u001b[0m\u001b[0mself\u001b[0m\u001b[0;34m.\u001b[0m\u001b[0mholds_integer\u001b[0m\u001b[0;34m(\u001b[0m\u001b[0;34m)\u001b[0m \u001b[0;32mor\u001b[0m \u001b[0mself\u001b[0m\u001b[0;34m.\u001b[0m\u001b[0mis_boolean\u001b[0m\u001b[0;34m(\u001b[0m\u001b[0;34m)\u001b[0m\u001b[0;34m)\u001b[0m\u001b[0;34m:\u001b[0m\u001b[0;34m\u001b[0m\u001b[0;34m\u001b[0m\u001b[0m\n",
      "\u001b[0;32mpandas/_libs/index.pyx\u001b[0m in \u001b[0;36mpandas._libs.index.IndexEngine.get_value\u001b[0;34m()\u001b[0m\n",
      "\u001b[0;32mpandas/_libs/index.pyx\u001b[0m in \u001b[0;36mpandas._libs.index.IndexEngine.get_value\u001b[0;34m()\u001b[0m\n",
      "\u001b[0;32mpandas/_libs/index.pyx\u001b[0m in \u001b[0;36mpandas._libs.index.IndexEngine.get_loc\u001b[0;34m()\u001b[0m\n",
      "\u001b[0;32mpandas/_libs/hashtable_class_helper.pxi\u001b[0m in \u001b[0;36mpandas._libs.hashtable.Int64HashTable.get_item\u001b[0;34m()\u001b[0m\n",
      "\u001b[0;32mpandas/_libs/hashtable_class_helper.pxi\u001b[0m in \u001b[0;36mpandas._libs.hashtable.Int64HashTable.get_item\u001b[0;34m()\u001b[0m\n",
      "\u001b[0;31mKeyError\u001b[0m: 40"
     ]
    }
   ],
   "source": [
    "import random\n",
    "import numpy,math\n",
    "from cs50 import get_string\n",
    "import pandas as pd\n",
    "import statistics\n",
    "import talib\n",
    "\n",
    "\n",
    "class Phrase:\n",
    "\n",
    "    # constructor method\n",
    "    def __init__(self,contents):\n",
    "        self.characters = []\n",
    "        # append len(target) number of randomly chosen printable ASCII chars\n",
    "        for i in range(len(contents)):\n",
    "            character = contents[i]\n",
    "            self.characters.append(character)\n",
    "    def getContents(self):\n",
    "        return ''.join(self.characters)\n",
    "\n",
    "    # score the current entity's fitness by counting matches to target\n",
    "    def getFitness(self):\n",
    "        self.score = 0\n",
    "        self.shares = 0\n",
    "        self.buy = 0\n",
    "        self.buy_price = 0\n",
    "        self.sell = 0\n",
    "        self.sell_price = 0\n",
    "        # self.r1_avg\n",
    "        # sel\n",
    "        # for i in range(len(self.characters)):\n",
    "        for p in range(len(df)-41):\n",
    "            j = p + 40\n",
    "            self.transaction = 0\n",
    "            self.count0 = 0\n",
    "            # self.r1(j)\n",
    "            self.r2(j)\n",
    "            self.r3(j)\n",
    "            self.r4(j)\n",
    "            self.r5(j)\n",
    "            self.r6(j)\n",
    "            self.r7(j)\n",
    "            brokerage = 40\n",
    "            if self.count0 < (target / 4):\n",
    "                if self.buy == 1 and self.sell == 0:\n",
    "                    self.buy = 0\n",
    "                    if (abs((df[j] + self.buy_price)) * lot_size * 0.06 < 40):\n",
    "                        brokerage = (df[j] - self.buy_price) * lot_size * 0.06\n",
    "                    self.score += ((df[j] - self.buy_price) * lot_size)\n",
    "                    self.score -= brokerage\n",
    "                    self.transaction += 1\n",
    "                elif self.buy == 0 and self.buy == 0:\n",
    "                    self.sell = 1\n",
    "                    self.sell_price = df[j]\n",
    "            else:  # if self.characters[2] == '1':\n",
    "                if self.sell == 1 and self.buy == 0:\n",
    "                    self.sell = 0\n",
    "                    if (abs((df[j] + self.sell_price)) * lot_size * 0.06 < 40):\n",
    "                        brokerage = (df[j] - self.sell_price) * lot_size * 0.06\n",
    "                    self.score -= ((df[j] - self.sell_price) * lot_size)\n",
    "                    self.score -= brokerage\n",
    "                    self.transaction += 1\n",
    "                elif self.sell == 0 and self.buy == 0:\n",
    "                    self.buy = 1\n",
    "                    self.buy_price = df[j]\n",
    "        brokerage = 40\n",
    "        if self.sell == 1 and self.buy == 0:\n",
    "            self.sell = 0\n",
    "            if (abs((df[j] + self.sell_price)) * lot_size * 0.06 < 40):\n",
    "                brokerage = (df[j] - self.sell_price) * lot_size * 0.06\n",
    "            self.score -= ((df[j] - self.sell_price) * lot_size)\n",
    "            self.score -= brokerage\n",
    "        elif self.buy == 1 and self.sell == 0:\n",
    "            self.buy = 0\n",
    "            if (abs((df[j] + self.buy_price)) * lot_size * 0.06 < 40):\n",
    "                brokerage = (df[j] - self.sell_price) * lot_size * 0.06\n",
    "            self.score += ((df[j] - self.buy_price) * lot_size)\n",
    "            self.score -= brokerage\n",
    "\n",
    "\n",
    "    def r1(self, j):\n",
    "        if j>0:\n",
    "            close_prices=df[0:j]\n",
    "            volumes = dfv[0:j]\n",
    "            rocp = talib.ROCP(close_prices, timeperiod=1)\n",
    "            norm_volumes = (volumes - numpy.mean(volumes)) / math.sqrt(numpy.var(volumes))\n",
    "            vrocp = talib.ROCP(norm_volumes + numpy.max(norm_volumes) - numpy.min(norm_volumes), timeperiod=1)\n",
    "            # vrocp = talib.ROCP(volumes, timeperiod=1)\n",
    "            if rocp[j-1]!=numpy.NaN and vrocp[j-1]!=numpy.NaN:\n",
    "                pv = rocp[j-1] * vrocp[j-1] * 100\n",
    "                if pv > 0:\n",
    "                    if rocp[j-1] > 0 and vrocp[j-1] > 0:\n",
    "                        if self.characters[1] == '0':\n",
    "                            self.count0 += 1\n",
    "                    elif rocp[j-1] < 0 and vrocp[j-1] < 0:\n",
    "                        if self.characters[0] == '0':\n",
    "                            self.count0 += 1\n",
    "\n",
    "    # MA\n",
    "    def r2(self, j):\n",
    "        if j > 0:\n",
    "            avg = statistics.mean(df[j-20:j])\n",
    "            print(df[j])\n",
    "            print(avg)\n",
    "            if df[j] > avg :\n",
    "                if self.characters[3] == '0':\n",
    "                    self.count0 += 1\n",
    "            elif df[j] < avg:\n",
    "                if self.characters[2] == '0':\n",
    "                    self.count0 += 1\n",
    "\n",
    "    #ROCP\n",
    "    def r3(self, j):\n",
    "        if j > 0:\n",
    "            rocp = talib.ROCP(df[0:j], timeperiod=1)\n",
    "            if rocp[j-1] > 0:\n",
    "                if self.characters[5] == '0':\n",
    "                    self.count0 += 1\n",
    "            elif rocp[j-1] < 0:\n",
    "                if self.characters[4] == '0':\n",
    "                    self.count0 += 1\n",
    "\n",
    "    #MACD\n",
    "    def r4(self,j):\n",
    "        if j > 34:\n",
    "            macd, signal, hist = talib.MACD(df[0:j], fastperiod=12, slowperiod=26, signalperiod=9)\n",
    "            a = macd[j-2] - hist[j-2]\n",
    "            b = macd[j-1] - hist[j-1]\n",
    "            if a > 0 and b < 0:\n",
    "                if self.characters[7] == '0':\n",
    "                    self.count0 += 1\n",
    "            elif a < 0 and b > 0:\n",
    "                if self.characters[6] == '0':\n",
    "                    self.count0 += 1\n",
    "\n",
    "    #BOLL\n",
    "    def r5(self, j):\n",
    "        if j > 0:\n",
    "            upperband, middleband, lowerband = talib.BBANDS(df[0:j], timeperiod=5, nbdevup=2, nbdevdn=2, matype=0)\n",
    "            if upperband[j-1] < df[j]:\n",
    "                if self.characters[9] == '0':\n",
    "                    self.count0 += 1\n",
    "            elif lowerband[j-1] > df[j]:\n",
    "                if self.characters[8] == '0':\n",
    "                    self.count0 += 1\n",
    "\n",
    "    #VROCP\n",
    "    def r6(self, j):\n",
    "        if j > 0:\n",
    "            volumes = dfv[0:j]\n",
    "            norm_volumes = (volumes - numpy.mean(volumes)) / math.sqrt(numpy.var(volumes))\n",
    "            vrocp = talib.ROCP(norm_volumes + numpy.max(norm_volumes) - numpy.min(norm_volumes), timeperiod=1)\n",
    "            if vrocp[j - 1] > 0:\n",
    "                if self.characters[11] == '0':\n",
    "                    self.count0 += 1\n",
    "            elif vrocp[j - 1] < 0:\n",
    "                if self.characters[10] == '0':\n",
    "                    self.count0 += 1\n",
    "\n",
    "    #RSI\n",
    "    def r7(self,j):\n",
    "        if (j > 20):\n",
    "            rsi = talib.RSI(df[0:j], timeperiod=6)\n",
    "            # macd, signal, hist = talib.MACD((df[0:j]), fastperiod=12, slowperiod=26, signalperiod=9)\n",
    "            # print(str(a) +\" \"+ str(b))\n",
    "            if rsi[j-1] > 70:\n",
    "                # print(str(a) + str(b))\n",
    "                if self.characters[1] == '0':\n",
    "                    self.count0 += 1\n",
    "            elif rsi[j-1] < 30:\n",
    "                # print(str(a) + str(b))\n",
    "                if self.characters[0] == '0':\n",
    "                    self.count0 += 1\n",
    "\n",
    "\n",
    "if __name__ == \"__main__\":\n",
    "    df1 = pd.read_csv(\"/root/alpha/git/mine/data_science/data/01JAN/SBIN.csv\",sep=\",\", header=None)\n",
    "    df1 = df1[160:]\n",
    "    df = df1[4]\n",
    "    dfv = df1[5]\n",
    "    avg = statistics.mean(df)\n",
    "    # ask the user for a target string\n",
    "    # target = get_string(\"What target do you want to match? \")\n",
    "    target = 12\n",
    "    popSize = 100\n",
    "    c1 = 0\n",
    "    lot_size = 100\n",
    "    rule = \"110111011111\"\n",
    "    ph = Phrase(rule)\n",
    "    ph.getFitness()\n",
    "    print(ph.score)\n"
   ]
  },
  {
   "cell_type": "code",
   "execution_count": 6,
   "metadata": {
    "collapsed": true
   },
   "outputs": [
    {
     "data": {
      "text/plain": [
       "0          NaN\n",
       "1          NaN\n",
       "2          NaN\n",
       "3          NaN\n",
       "4          NaN\n",
       "5          NaN\n",
       "6          NaN\n",
       "7          NaN\n",
       "8          NaN\n",
       "9          NaN\n",
       "10         NaN\n",
       "11         NaN\n",
       "12         NaN\n",
       "13         NaN\n",
       "14         NaN\n",
       "15         NaN\n",
       "16         NaN\n",
       "17         NaN\n",
       "18         NaN\n",
       "19         NaN\n",
       "20         NaN\n",
       "21         NaN\n",
       "22         NaN\n",
       "23         NaN\n",
       "24         NaN\n",
       "25         NaN\n",
       "26         NaN\n",
       "27         NaN\n",
       "28         NaN\n",
       "29         NaN\n",
       "30         NaN\n",
       "31         NaN\n",
       "32         NaN\n",
       "33   -0.212513\n",
       "dtype: float64"
      ]
     },
     "execution_count": 6,
     "metadata": {},
     "output_type": "execute_result"
    }
   ],
   "source": [
    "macd, signal, hist = talib.MACD((df[0:34]), fastperiod=12, slowperiod=26, signalperiod=9)\n",
    "signal"
   ]
  },
  {
   "cell_type": "code",
   "execution_count": 2,
   "metadata": {
    "scrolled": true
   },
   "outputs": [
    {
     "data": {
      "text/plain": [
       "0      297.50\n",
       "1      296.30\n",
       "2      296.35\n",
       "3      296.35\n",
       "4      295.65\n",
       "5      295.60\n",
       "6      295.90\n",
       "7      295.70\n",
       "8      295.60\n",
       "9      295.80\n",
       "10     295.40\n",
       "11     295.55\n",
       "12     295.40\n",
       "13     295.20\n",
       "14     295.55\n",
       "15     295.75\n",
       "16     295.75\n",
       "17     295.50\n",
       "18     295.60\n",
       "19     295.00\n",
       "20     295.15\n",
       "21     295.05\n",
       "22     295.40\n",
       "23     295.40\n",
       "24     295.60\n",
       "25     295.40\n",
       "26     295.35\n",
       "27     295.45\n",
       "28     295.35\n",
       "29     295.35\n",
       "        ...  \n",
       "363    299.65\n",
       "364    299.35\n",
       "365    299.45\n",
       "366    299.45\n",
       "367    299.85\n",
       "368    300.00\n",
       "369    300.15\n",
       "370    300.25\n",
       "371    300.30\n",
       "372    300.50\n",
       "373    300.35\n",
       "374    300.45\n",
       "375    300.70\n",
       "376    299.60\n",
       "377    299.60\n",
       "378    300.70\n",
       "379    299.60\n",
       "380    299.60\n",
       "381    300.70\n",
       "382    299.60\n",
       "383    299.60\n",
       "384    299.60\n",
       "385    299.60\n",
       "386    299.60\n",
       "387    299.60\n",
       "388    300.70\n",
       "389    299.60\n",
       "390    299.60\n",
       "391    299.60\n",
       "392    299.60\n",
       "Name: 4, Length: 393, dtype: float64"
      ]
     },
     "execution_count": 2,
     "metadata": {},
     "output_type": "execute_result"
    }
   ],
   "source": [
    "import random\n",
    "from cs50 import get_string\n",
    "import pandas as pd\n",
    "import statistics\n",
    "df1 = pd.read_csv(\"/root/alpha/git/mine/data_science/data/01JAN/SBIN.csv\",sep=\",\",header=None)\n",
    "df = df1[4]\n",
    "df"
   ]
  },
  {
   "cell_type": "code",
   "execution_count": 3,
   "metadata": {},
   "outputs": [
    {
     "data": {
      "text/plain": [
       "[<matplotlib.lines.Line2D at 0x7f9959844fd0>]"
      ]
     },
     "execution_count": 3,
     "metadata": {},
     "output_type": "execute_result"
    },
    {
     "data": {
      "image/png": "[encoded data removed]",
      "text/plain": [
       "<Figure size 432x288 with 1 Axes>"
      ]
     },
     "metadata": {
      "needs_background": "light"
     },
     "output_type": "display_data"
    }
   ],
   "source": [
    "pyplot.plot(df)\n",
    "# pyplot.plot((rsi/100)*7+294)\n",
    "# # pyplot.plot((a/100)*7+294)\n",
    "# pyplot.plot((a))\n",
    "# pyplot.plot((b))\n",
    "# pyplot.plot((c))\n",
    "# pyplot.plot((d))"
   ]
  },
  {
   "cell_type": "code",
   "execution_count": 4,
   "metadata": {
    "scrolled": true
   },
   "outputs": [
    {
     "data": {
      "text/plain": [
       "[<matplotlib.lines.Line2D at 0x7f9959775390>]"
      ]
     },
     "execution_count": 4,
     "metadata": {},
     "output_type": "execute_result"
    },
    {
     "data": {
      "image/png": "[encoded data removed]",
      "text/plain": [
       "<Figure size 432x288 with 1 Axes>"
      ]
     },
     "metadata": {
      "needs_background": "light"
     },
     "output_type": "display_data"
    }
   ],
   "source": [
    "rsi = talib.RSI(df[1:], timeperiod=20)\n",
    "rsi\n",
    "pyplot.plot((rsi))\n",
    "# pyplot.plot(a)\n",
    "# pyplot.plot(b)\n",
    "# # pyplot.plot((b))\n",
    "# pyplot.plot((c))\n",
    "# pyplot.plot((d))"
   ]
  },
  {
   "cell_type": "code",
   "execution_count": 5,
   "metadata": {},
   "outputs": [],
   "source": [
    "b = []\n",
    "for i in range(392):\n",
    "    b.append((80/100)*7+294)\n",
    "a = []\n",
    "for i in range(392):\n",
    "    a.append((70/100)*7+294)\n",
    "c = []\n",
    "for i in range(392):\n",
    "    c.append((30/100)*7+294)\n",
    "d = []\n",
    "for i in range(392):\n",
    "    d.append((40/100)*7+294)"
   ]
  },
  {
   "cell_type": "code",
   "execution_count": 6,
   "metadata": {
    "scrolled": true
   },
   "outputs": [
    {
     "data": {
      "text/plain": [
       "0      297.50\n",
       "1      296.30\n",
       "2      296.35\n",
       "3      296.35\n",
       "4      295.65\n",
       "5      295.60\n",
       "6      295.90\n",
       "7      295.70\n",
       "8      295.60\n",
       "9      295.80\n",
       "10     295.40\n",
       "11     295.55\n",
       "12     295.40\n",
       "13     295.20\n",
       "14     295.55\n",
       "15     295.75\n",
       "16     295.75\n",
       "17     295.50\n",
       "18     295.60\n",
       "19     295.00\n",
       "20     295.15\n",
       "21     295.05\n",
       "22     295.40\n",
       "23     295.40\n",
       "24     295.60\n",
       "25     295.40\n",
       "26     295.35\n",
       "27     295.45\n",
       "28     295.35\n",
       "29     295.35\n",
       "        ...  \n",
       "363    299.65\n",
       "364    299.35\n",
       "365    299.45\n",
       "366    299.45\n",
       "367    299.85\n",
       "368    300.00\n",
       "369    300.15\n",
       "370    300.25\n",
       "371    300.30\n",
       "372    300.50\n",
       "373    300.35\n",
       "374    300.45\n",
       "375    300.70\n",
       "376    299.60\n",
       "377    299.60\n",
       "378    300.70\n",
       "379    299.60\n",
       "380    299.60\n",
       "381    300.70\n",
       "382    299.60\n",
       "383    299.60\n",
       "384    299.60\n",
       "385    299.60\n",
       "386    299.60\n",
       "387    299.60\n",
       "388    300.70\n",
       "389    299.60\n",
       "390    299.60\n",
       "391    299.60\n",
       "392    299.60\n",
       "Name: 4, Length: 393, dtype: float64"
      ]
     },
     "execution_count": 6,
     "metadata": {},
     "output_type": "execute_result"
    }
   ],
   "source": [
    "df1 = pd.read_csv(\"/root/alpha/git/mine/data_science/data/01JAN/SBIN.csv\",header=None)\n",
    "df = df1[4]\n",
    "df"
   ]
  },
  {
   "cell_type": "code",
   "execution_count": 7,
   "metadata": {},
   "outputs": [],
   "source": []
  },
  {
   "cell_type": "code",
   "execution_count": 26,
   "metadata": {},
   "outputs": [
    {
     "ename": "AttributeError",
     "evalue": "'Series' object has no attribute 'set_index'",
     "output_type": "error",
     "traceback": [
      "\u001b[0;31m---------------------------------------------------------------------------\u001b[0m",
      "\u001b[0;31mAttributeError\u001b[0m                            Traceback (most recent call last)",
      "\u001b[0;32m<ipython-input-26-8429632f0723>\u001b[0m in \u001b[0;36m<module>\u001b[0;34m()\u001b[0m\n\u001b[1;32m      2\u001b[0m \u001b[0;31m# avg\u001b[0m\u001b[0;34m\u001b[0m\u001b[0;34m\u001b[0m\u001b[0;34m\u001b[0m\u001b[0m\n\u001b[1;32m      3\u001b[0m \u001b[0;31m# df[220]\u001b[0m\u001b[0;34m\u001b[0m\u001b[0;34m\u001b[0m\u001b[0;34m\u001b[0m\u001b[0m\n\u001b[0;32m----> 4\u001b[0;31m \u001b[0mdf\u001b[0m\u001b[0;34m.\u001b[0m\u001b[0mset_index\u001b[0m\u001b[0;34m(\u001b[0m\u001b[0mpd\u001b[0m\u001b[0;34m.\u001b[0m\u001b[0mIndex\u001b[0m\u001b[0;34m[\u001b[0m\u001b[0;36m1\u001b[0m\u001b[0;34m]\u001b[0m\u001b[0;34m)\u001b[0m\u001b[0;34m\u001b[0m\u001b[0;34m\u001b[0m\u001b[0m\n\u001b[0m",
      "\u001b[0;32m/usr/local/lib/python3.7/dist-packages/pandas/core/generic.py\u001b[0m in \u001b[0;36m__getattr__\u001b[0;34m(self, name)\u001b[0m\n\u001b[1;32m   5065\u001b[0m             \u001b[0;32mif\u001b[0m \u001b[0mself\u001b[0m\u001b[0;34m.\u001b[0m\u001b[0m_info_axis\u001b[0m\u001b[0;34m.\u001b[0m\u001b[0m_can_hold_identifiers_and_holds_name\u001b[0m\u001b[0;34m(\u001b[0m\u001b[0mname\u001b[0m\u001b[0;34m)\u001b[0m\u001b[0;34m:\u001b[0m\u001b[0;34m\u001b[0m\u001b[0;34m\u001b[0m\u001b[0m\n\u001b[1;32m   5066\u001b[0m                 \u001b[0;32mreturn\u001b[0m \u001b[0mself\u001b[0m\u001b[0;34m[\u001b[0m\u001b[0mname\u001b[0m\u001b[0;34m]\u001b[0m\u001b[0;34m\u001b[0m\u001b[0;34m\u001b[0m\u001b[0m\n\u001b[0;32m-> 5067\u001b[0;31m             \u001b[0;32mreturn\u001b[0m \u001b[0mobject\u001b[0m\u001b[0;34m.\u001b[0m\u001b[0m__getattribute__\u001b[0m\u001b[0;34m(\u001b[0m\u001b[0mself\u001b[0m\u001b[0;34m,\u001b[0m \u001b[0mname\u001b[0m\u001b[0;34m)\u001b[0m\u001b[0;34m\u001b[0m\u001b[0;34m\u001b[0m\u001b[0m\n\u001b[0m\u001b[1;32m   5068\u001b[0m \u001b[0;34m\u001b[0m\u001b[0m\n\u001b[1;32m   5069\u001b[0m     \u001b[0;32mdef\u001b[0m \u001b[0m__setattr__\u001b[0m\u001b[0;34m(\u001b[0m\u001b[0mself\u001b[0m\u001b[0;34m,\u001b[0m \u001b[0mname\u001b[0m\u001b[0;34m,\u001b[0m \u001b[0mvalue\u001b[0m\u001b[0;34m)\u001b[0m\u001b[0;34m:\u001b[0m\u001b[0;34m\u001b[0m\u001b[0;34m\u001b[0m\u001b[0m\n",
      "\u001b[0;31mAttributeError\u001b[0m: 'Series' object has no attribute 'set_index'"
     ]
    }
   ],
   "source": [
    "avg = statistics.mean(df[21-20:21])\n",
    "# avg\n",
    "# df[220]\n",
    "df.set_index(pd.Index[1])"
   ]
  }
 ],
 "metadata": {
  "kernelspec": {
   "display_name": "Python 3",
   "language": "python",
   "name": "python3"
  },
  "language_info": {
   "codemirror_mode": {
    "name": "ipython",
    "version": 3
   },
   "file_extension": ".py",
   "mimetype": "text/x-python",
   "name": "python",
   "nbconvert_exporter": "python",
   "pygments_lexer": "ipython3",
   "version": "3.7.3"
  }
 },
 "nbformat": 4,
 "nbformat_minor": 2
}
